{
 "cells": [
  {
   "cell_type": "code",
   "execution_count": null,
   "metadata": {},
   "outputs": [],
   "source": [
    "import arcpy\n",
    "\n",
    "arcpy.env.addOutputsToMap = False\n",
    "## url to the feature layer\n",
    "urls = [\n",
    "    (\"https://services.arcgis.com/JJzESW51TqeY9uat/arcgis/rest/services/Provisional Agricultural Land Classification (ALC) (England)/FeatureServer/0\", \"Agricultural_Land_Classification\"),\n",
    "    (\"https://services.arcgis.com/JJzESW51TqeY9uat/arcgis/rest/services/CRoW_Act_2000_Section_4_Conclusive_Registered_Common_Land/FeatureServer/0\", \"Registered_Common_Land\"),\n",
    "    (\"https://gisdata.landmarkcloud.co.uk/arcgis/rest/services/MAGIC/Access/MapServer/4\", \"Village_Greens\"),\n",
    "    (\"https://services.arcgis.com/JJzESW51TqeY9uat/arcgis/rest/services/Areas_of_Outstanding_Natural_Beauty_England/FeatureServer/0\", \"Areas_of_Outstanding_Natural_Beauty\"),\n",
    "    (\"https://services.arcgis.com/JJzESW51TqeY9uat/arcgis/rest/services/Special_Protection_Areas_England/FeatureServer/0\", \"Special_Protection_Areas\"),\n",
    "    (\"https://environment.data.gov.uk/arcgis/rest/services/EA/HistoricLandfill/MapServer/0\", \"Historic_Landfill\"),\n",
    "    (\"https://services-eu1.arcgis.com/ZOdPfBS3aqqDYPUQ/arcgis/rest/services/National_Heritage_List_for_England_NHLE_v02_VIEW/FeatureServer/0\", \"Listed_Buildings\"),\n",
    "    (\"https://services-eu1.arcgis.com/ZOdPfBS3aqqDYPUQ/arcgis/rest/services/National_Heritage_List_for_England_NHLE_v02_VIEW/FeatureServer/6\", \"Scheduled_Monuments\"),\n",
    "    (\"https://services.arcgis.com/XSeYKQzfXnEgju9o/arcgis/rest/services/England_Green_Belt_2022/FeatureServer/0\", \"Green_Belt\"),\n",
    "    (\"https://services.arcgis.com/JJzESW51TqeY9uat/arcgis/rest/services/Biosphere_Reserves_England/FeatureServer/0\", \"Biosphere_Reserves\"),\n",
    "    (\"https://services.arcgis.com/JJzESW51TqeY9uat/arcgis/rest/services/Country_Parks_England/FeatureServer/0\", \"Country_Parks\"),\n",
    "    (\"https://services.arcgis.com/JJzESW51TqeY9uat/arcgis/rest/services/Local_Nature_Reserves_England/FeatureServer/0\", \"Local_Nature_Reserves\"),\n",
    "    (\"https://services.arcgis.com/JJzESW51TqeY9uat/arcgis/rest/services/National_Nature_Reserves_England/FeatureServer/0\", \"National_Nature_Reserves\"),\n",
    "    (\"https://services.arcgis.com/JJzESW51TqeY9uat/arcgis/rest/services/National_Parks_England/FeatureServer/0\", \"National_Parks\"),\n",
    "    (\"https://services.arcgis.com/JJzESW51TqeY9uat/arcgis/rest/services/Ramsar_England/FeatureServer/0\", \"Ramsar\"),\n",
    "    (\"https://services1.arcgis.com/h1C9f6qsGKmqXsVs/arcgis/rest/services/RSPB_Public_Reserves/FeatureServer/0\", \"RSPB\"),\n",
    "    (\"https://services.arcgis.com/JJzESW51TqeY9uat/arcgis/rest/services/Special_Areas_of_Conservation_England/FeatureServer/0\", \"Special_Areas_of_Conservation\"),\n",
    "    (\"https://gisdata.landmarkcloud.co.uk/arcgis/rest/services/MAGIC/Designations/MapServer/107\", \"Drinking_Water_Protected_Areas_Surface_Water\"),\n",
    "    (\"https://gisdata.landmarkcloud.co.uk/arcgis/rest/services/MAGIC/Designations/MapServer/108\", \"Drinking_Water_Safeguard_Zones_Surface_Water\"),\n",
    "    (\"https://gisdata.landmarkcloud.co.uk/arcgis/rest/services/MAGIC/Designations/MapServer/109\", \"Drinking_Water_Safeguard_Zones_Ground_Water\"),\n",
    "    (\"https://environment.data.gov.uk/arcgis/rest/services/EA/SourceProtectionZonesMerged/MapServer/0\", \"Source_Protection_Zones\"),\n",
    "    (\"https://gisdata.landmarkcloud.co.uk/arcgis/rest/services/MAGIC/Designations/MapServer/96\", \"Community_Forests\"),\n",
    "    (\"https://services1.arcgis.com/JZM7qJpmv7vJ0Hzx/ArcGIS/rest/services/NitrateVulnerableZones_NVZ_2017_Final_Designations/FeatureServer/0\", \"Nitrate_Vulnerable_Zones\"),\n",
    "    (\"https://services.arcgis.com/JJzESW51TqeY9uat/arcgis/rest/services/Ancient_Woodland_England/FeatureServer/0\", \"Ancient_Woodland\"),\n",
    "    (\"https://services.arcgis.com/JJzESW51TqeY9uat/arcgis/rest/services/SSSI_England/FeatureServer/0\", \"Sites_of_Special_Scientific_Interest\"),\n",
    "    (\"https://services.arcgis.com/JJzESW51TqeY9uat/arcgis/rest/services/SSSI_Impact_Risk_Zones_England/FeatureServer/0\", \"SSSI_Impact_Risk_Zones\"),\n",
    "    (\"https://gisdata.landmarkcloud.co.uk/arcgis/rest/services/MAGIC/Landscape/MapServer/3\", \"Groundwater_Vulnerability_Map\"),\n",
    "    (\"https://services.arcgis.com/JJzESW51TqeY9uat/arcgis/rest/services/National_Habitat_Networks_England/FeatureServer/0\", \"Combined_Habitat_Networks\"),\n",
    "    (\"https://gisdata.landmarkcloud.co.uk/arcgis/rest/services/MAGIC/Designations/MapServer/100\", \"National_Forest\"),\n",
    "    (\"https://gisrest.defra.gov.uk/server/rest/services/EA/FloodMapForPlanningRiversAndSeaFloodZone2/MapServer/0\", \"Flood_Zone_2\"),\n",
    "    (\"https://gisrest.defra.gov.uk/server/rest/services/EA/FloodMapForPlanningRiversAndSeaFloodZone3/MapServer/0\", \"Flood_Zone_3\")\n",
    "]\n",
    "## file geodatabase path\n",
    "\n",
    "gdb = arcpy.management.CreateFileGDB(r\"specify path\", gdb_name)\n",
    "\n",
    "for url, name in urls:\n",
    "    # Define the output feature class path using the provided custom name\n",
    "    out_fc_path = f\"{gdb}\\\\{name}\"\n",
    "\n",
    "    # Export the feature layer to the geodatabase using ExportFeatures\n",
    "    try:\n",
    "        arcpy.conversion.ExportFeatures(url, out_fc_path)\n",
    "        print(f\"Successfully exported {name} to {out_fc_path}\")\n",
    "    except Exception as e:\n",
    "        print(f\"Failed to export {name}: {str(e)}\")\n"
   ]
  }
 ],
 "metadata": {
  "kernelspec": {
   "display_name": "ArcGISPro",
   "language": "python",
   "name": "python3"
  },
  "language_info": {
   "file_extension": ".py",
   "mimetype": "text/x-python",
   "name": "python",
   "version": "3.11.10"
  }
 },
 "nbformat": 4,
 "nbformat_minor": 4
}
