{
 "cells": [
  {
   "cell_type": "code",
   "execution_count": null,
   "metadata": {},
   "outputs": [],
   "source": [
    "#This tool uses a combination of script and model builder to export all the layers (can choose visible layers or all layers) in a project and zip it avoiding having to select layers, export them and zip them manually.\n",
    "\n",
    "import arcpy\n",
    "import shutil\n",
    "import os\n",
    "\n",
    "\n",
    "input_map = arcpy.GetParameterAsText(0)\n",
    "out_folder = arcpy.GetParameterAsText(1)\n",
    "zip_name = arcpy.GetParameterAsText(2)\n",
    "visibility_options = arcpy.GetParameterAsText(3)\n",
    "recursive_options = arcpy.GetParameterAsText(4)\n",
    "\n",
    "\n",
    "arcpy.env.overwriteOutput = True\n",
    "\n",
    "# Set up the project and map\n",
    "aprx = arcpy.mp.ArcGISProject(\"CURRENT\")\n",
    "mp = aprx.listMaps(input_map)[0] #Input map parameter\n",
    "\n",
    "# Define output folder\n",
    "folder_name = zip_name # folder name parameter\n",
    "output_folder_path = r\"path to temporary folder\" #if this folder is deleted you should create another folder and change the path here\n",
    "\n",
    "#Create a temporary folder\n",
    "output_folder = arcpy.management.CreateFolder(output_folder_path, folder_name)\n",
    "\n",
    "# Define zip file path\n",
    "zip_file = os.path.join(out_folder, folder_name) #use the folder path as parameter\n",
    "\n",
    "#import a model builder into the script tool\n",
    "arcpy.ImportToolbox(r\"path to the model\")\n",
    "arcpy.NewToolbox.ExportallLayerstoShapefileToolSub(\n",
    "    Input_Map=\"Map\",\n",
    "    Output_Folder__Use__Value__shp_as_the_inline_variable_=f\"{output_folder}\\\\%Value%.shp\",\n",
    "    Visibility=visibility_options,\n",
    "    Recursive=recursive_options\n",
    ")\n",
    "\n",
    "# Create a zip file of the output folder\n",
    "shutil.make_archive(zip_file, \"zip\", output_folder_path)\n",
    "\n",
    "# Delete the output folder\n",
    "arcpy.management.Delete(output_folder)"
   ]
  }
 ],
 "metadata": {
  "kernelspec": {
   "display_name": "ArcGISPro",
   "language": "Python",
   "name": "python3"
  },
  "language_info": {
   "file_extension": ".py",
   "name": "python",
   "version": "3"
  }
 },
 "nbformat": 4,
 "nbformat_minor": 2
}
