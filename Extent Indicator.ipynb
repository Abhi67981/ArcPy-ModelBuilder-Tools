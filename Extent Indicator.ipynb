{
 "cells": [
  {
   "cell_type": "code",
   "execution_count": null,
   "metadata": {},
   "outputs": [],
   "source": [
    "#initiate project\n",
    "aprx = arcpy.mp.ArcGISProject(\"CURRENT\")\n",
    "lyt = aprx.listLayouts(\"Layout\")[0]\n",
    "ms = lyt.mapSeries\n",
    "\n",
    "#Access extent indicator and turn it off\n",
    "l_cim = lyt.getDefinition('V3')\n",
    "for elm in l_cim.elements:\n",
    "    if elm.name == \"Main Frame Map Frame\":\n",
    "        for ei in elm.extentIndicators:\n",
    "            if ei.name == \"Extent of New Data Frame Map Frame\":\n",
    "                ei.isVisible = False #visibility is turned off\n",
    "lyt.setDefinition(l_cim)\n",
    "\n",
    "#Manipulate the position of the layout\n",
    "mapframe = lyt.listElements('MapFrame_Element', \"New Data Frame Map Frame\")[0]\n",
    "mapframe.elementPositionX = 38\n",
    "mapframe.elementPositionY = 99\n",
    "ms.exportToPDF(r\"your path\",\"RANGE\",\"1\")\n",
    "\n",
    "\n",
    "#Access extent indicator and turn it on\n",
    "l_cim = lyt.getDefinition('V3')\n",
    "for elm in l_cim.elements:\n",
    "    if elm.name == \"Main Frame Map Frame\":\n",
    "        for ei in elm.extentIndicators:\n",
    "            if ei.name == \"Extent of New Data Frame Map Frame\":\n",
    "                ei.isVisible = True #visibilty is turned on\n",
    "lyt.setDefinition(l_cim)\n",
    "\n",
    "#Manipulate the position of the layout\n",
    "mapframe = lyt.listElements('MapFrame_Element', \"New Data Frame 3 Map Frame\")[0]\n",
    "mapframe.elementPositionX = 40\n",
    "mapframe.elementPositionY = 72\n",
    "ms.exportToPDF(r\"your path\", \"RANGE\",\"2\")\n",
    "\n",
    "#Page appending process\n",
    "import os\n",
    "combPDF = arcpy.mp.PDFDocumentCreate(os.path.join(r\"path and name of the new pdf to combine the separate pdf's to one file\"))\n",
    "combPDF.appendPages(os.path.join(r\"path of pdf 1\"))\n",
    "combPDF.appendPages(os.path.join(r\"path of pdf 2\"))\n",
    "combPDF.saveAndClose()"
   ]
  }
 ],
 "metadata": {
  "kernelspec": {
   "display_name": "ArcGISPro",
   "language": "Python",
   "name": "python3"
  },
  "language_info": {
   "file_extension": ".py",
   "name": "python",
   "version": "3"
  }
 },
 "nbformat": 4,
 "nbformat_minor": 2
}
