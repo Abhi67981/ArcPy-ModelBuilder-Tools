{
 "cells": [
  {
   "cell_type": "code",
   "execution_count": null,
   "metadata": {},
   "outputs": [
    {
     "data": {
      "text/html": [
       "<div class='gpresult'><h2 class='msg-title'>Messages</h2><div id='messages'>Start Time: 11 February 2025 14:15:30<br>Succeeded at 11 February 2025 14:15:47 (Elapsed Time: 17.02 seconds)<br></div><div id = 'default' /></div></div>"
      ],
      "text/plain": [
       "<Result 'Groundwater Vulnerability Map'>"
      ]
     },
     "execution_count": 32,
     "metadata": {},
     "output_type": "execute_result"
    }
   ],
   "source": [
    "#make sure to add style file to project before running this tool\n",
    "#initiate project\n",
    "aprx = arcpy.mp.ArcGISProject(\"CURRENT\")\n",
    "mp = aprx.listMaps(\"Map\")[0]\n",
    "\n",
    "#renaming layers so that underscores doesn't conflict with the symbology tool\n",
    "for lyr in mp.listLayers():\n",
    "    if \"_\" in lyr.name:\n",
    "        layerName = str(lyr.name)\n",
    "        lyr.name = lyr.name.replace(\"_\", \" \")\n",
    "\n",
    "#applying symbology automatically by choosing it from gallery       \n",
    "aprx = arcpy.mp.ArcGISProject(\"CURRENT\")\n",
    "mp = aprx.listMaps(\"Map\")[0]\n",
    "layers_all = #list the names of all the layers available in the style file\n",
    "for layer_name in layers_all:\n",
    "    lyr = mp.listLayers(layer_name)\n",
    "    if lyr:\n",
    "        sym = lyr[0].symbology\n",
    "        sym.renderer.symbol.applySymbolFromGallery(layer_name)\n",
    "        lyr[0].symbology = sym\n",
    "\n",
    "#use this to apply symbologies for unique value symbols\n",
    "alc_lyr = mp.listLayers(\"Agricultural Land Classification\")[0]\n",
    "arcpy.management.MatchLayerSymbologyToAStyle(\n",
    "    in_layer=alc_lyr,\n",
    "    match_values=\"$feature.ALC_GRADE\",\n",
    "    in_style = #input the path to your style file\n",
    ")\n"
   ]
  },
  {
   "cell_type": "code",
   "execution_count": null,
   "metadata": {},
   "outputs": [],
   "source": []
  }
 ],
 "metadata": {
  "kernelspec": {
   "display_name": "ArcGISPro",
   "language": "python",
   "name": "python3"
  },
  "language_info": {
   "file_extension": ".py",
   "mimetype": "text/x-python",
   "name": "python",
   "version": "3.11.10"
  }
 },
 "nbformat": 4,
 "nbformat_minor": 4
}
